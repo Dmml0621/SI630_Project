{
  "nbformat": 4,
  "nbformat_minor": 0,
  "metadata": {
    "accelerator": "GPU",
    "colab": {
      "name": "DL_model",
      "provenance": [],
      "collapsed_sections": [],
      "toc_visible": true,
      "machine_shape": "hm"
    },
    "kernelspec": {
      "display_name": "Python 3",
      "language": "python",
      "name": "python3"
    },
    "language_info": {
      "codemirror_mode": {
        "name": "ipython",
        "version": 3
      },
      "file_extension": ".py",
      "mimetype": "text/x-python",
      "name": "python",
      "nbconvert_exporter": "python",
      "pygments_lexer": "ipython3",
      "version": "3.8.5"
    }
  },
  "cells": [
    {
      "cell_type": "markdown",
      "metadata": {
        "id": "z_-3zDqjvrkD"
      },
      "source": [
        "# SI 630 Project\n",
        "\n",
        "### Fake review detection on YelpZip Dataset\n",
        "\n",
        "This notebook is modified based on the code written by Arie Pratama Sutiono, referenced from \n",
        "\n",
        "https://towardsdatascience.com/deep-learning-for-nlp-with-pytorch-and-torchtext-4f92d69052f "
      ]
    },
    {
      "cell_type": "code",
      "metadata": {
        "colab": {
          "base_uri": "https://localhost:8080/",
          "height": 422
        },
        "id": "6Wsyj-e_6Ytb",
        "outputId": "1bae2f4f-481f-428c-f483-1036d79018e1"
      },
      "source": [
        "!pip install torchtext==0.4"
      ],
      "execution_count": 6,
      "outputs": [
        {
          "output_type": "stream",
          "text": [
            "Collecting torchtext==0.4\n",
            "\u001b[?25l  Downloading https://files.pythonhosted.org/packages/43/94/929d6bd236a4fb5c435982a7eb9730b78dcd8659acf328fd2ef9de85f483/torchtext-0.4.0-py3-none-any.whl (53kB)\n",
            "\r\u001b[K     |██████▏                         | 10kB 21.0MB/s eta 0:00:01\r\u001b[K     |████████████▍                   | 20kB 12.8MB/s eta 0:00:01\r\u001b[K     |██████████████████▌             | 30kB 9.6MB/s eta 0:00:01\r\u001b[K     |████████████████████████▊       | 40kB 8.3MB/s eta 0:00:01\r\u001b[K     |██████████████████████████████▉ | 51kB 5.3MB/s eta 0:00:01\r\u001b[K     |████████████████████████████████| 61kB 3.5MB/s \n",
            "\u001b[?25hRequirement already satisfied: tqdm in /usr/local/lib/python3.7/dist-packages (from torchtext==0.4) (4.41.1)\n",
            "Requirement already satisfied: six in /usr/local/lib/python3.7/dist-packages (from torchtext==0.4) (1.15.0)\n",
            "Requirement already satisfied: torch in /usr/local/lib/python3.7/dist-packages (from torchtext==0.4) (1.8.1+cu101)\n",
            "Requirement already satisfied: numpy in /usr/local/lib/python3.7/dist-packages (from torchtext==0.4) (1.19.5)\n",
            "Requirement already satisfied: requests in /usr/local/lib/python3.7/dist-packages (from torchtext==0.4) (2.23.0)\n",
            "Requirement already satisfied: typing-extensions in /usr/local/lib/python3.7/dist-packages (from torch->torchtext==0.4) (3.7.4.3)\n",
            "Requirement already satisfied: chardet<4,>=3.0.2 in /usr/local/lib/python3.7/dist-packages (from requests->torchtext==0.4) (3.0.4)\n",
            "Requirement already satisfied: certifi>=2017.4.17 in /usr/local/lib/python3.7/dist-packages (from requests->torchtext==0.4) (2020.12.5)\n",
            "Requirement already satisfied: urllib3!=1.25.0,!=1.25.1,<1.26,>=1.21.1 in /usr/local/lib/python3.7/dist-packages (from requests->torchtext==0.4) (1.24.3)\n",
            "Requirement already satisfied: idna<3,>=2.5 in /usr/local/lib/python3.7/dist-packages (from requests->torchtext==0.4) (2.10)\n",
            "Installing collected packages: torchtext\n",
            "  Found existing installation: torchtext 0.9.1\n",
            "    Uninstalling torchtext-0.9.1:\n",
            "      Successfully uninstalled torchtext-0.9.1\n",
            "Successfully installed torchtext-0.4.0\n"
          ],
          "name": "stdout"
        },
        {
          "output_type": "display_data",
          "data": {
            "application/vnd.colab-display-data+json": {
              "pip_warning": {
                "packages": [
                  "torchtext"
                ]
              }
            }
          },
          "metadata": {
            "tags": []
          }
        }
      ]
    },
    {
      "cell_type": "code",
      "metadata": {
        "id": "wZh0SM-IvrkI"
      },
      "source": [
        "import torch\n",
        "import torch.nn as nn\n",
        "import torch.nn.functional as F\n",
        "\n",
        "from torchtext.data import Field \n",
        "from torchtext.data import Dataset, Example\n",
        "from torchtext.data import BucketIterator\n",
        "from torchtext.vocab import FastText\n",
        "from torchtext.vocab import CharNGram\n",
        "\n",
        "import pandas as pd\n",
        "import numpy as np\n",
        "import string\n",
        "from tqdm import tqdm"
      ],
      "execution_count": 1,
      "outputs": []
    },
    {
      "cell_type": "code",
      "metadata": {
        "colab": {
          "base_uri": "https://localhost:8080/"
        },
        "id": "psAZIWNN5zJ8",
        "outputId": "e1147830-461c-4ed9-9216-7cfc11ab71da"
      },
      "source": [
        "from google.colab import drive\n",
        "drive.mount('/content/drive')"
      ],
      "execution_count": 2,
      "outputs": [
        {
          "output_type": "stream",
          "text": [
            "Drive already mounted at /content/drive; to attempt to forcibly remount, call drive.mount(\"/content/drive\", force_remount=True).\n"
          ],
          "name": "stdout"
        }
      ]
    },
    {
      "cell_type": "code",
      "metadata": {
        "id": "UQ5zun86vrkJ",
        "colab": {
          "base_uri": "https://localhost:8080/"
        },
        "outputId": "a5307094-8163-4525-92b4-9258c94bda9c"
      },
      "source": [
        "embedding_charngram = CharNGram()"
      ],
      "execution_count": 3,
      "outputs": [
        {
          "output_type": "stream",
          "text": [
            ".vector_cache/jmt_pre-trained_embeddings.tar.gz: 956MB [00:53, 17.9MB/s]                           \n",
            "100%|█████████▉| 874452/874474 [00:43<00:00, 20025.66it/s]"
          ],
          "name": "stderr"
        }
      ]
    },
    {
      "cell_type": "code",
      "metadata": {
        "id": "0CYXTxNi5qZm"
      },
      "source": [
        "df_review = pd.DataFrame(pd.read_table(\"/content/drive/MyDrive/Project/YelpZip/reviewContent\",names=[\"user_id\",\"name\",\"date\",\"review\"]))"
      ],
      "execution_count": 4,
      "outputs": []
    },
    {
      "cell_type": "code",
      "metadata": {
        "id": "1GfwepNo5qZm"
      },
      "source": [
        "df_metadata = pd.DataFrame(pd.read_table(\"/content/drive/MyDrive/Project/YelpZip/metadata\",names=[\"user_id\", \"prod_id\", \"rating\", \"label\", \"date\"]))"
      ],
      "execution_count": 5,
      "outputs": []
    },
    {
      "cell_type": "code",
      "metadata": {
        "id": "S1dFLlz-5qZm"
      },
      "source": [
        "df = pd.concat([df_review,df_metadata], axis=1,join=\"inner\")\n",
        "df = df.loc[:,~df.columns.duplicated()]"
      ],
      "execution_count": 6,
      "outputs": []
    },
    {
      "cell_type": "code",
      "metadata": {
        "id": "egJeLKHg5qZn"
      },
      "source": [
        "df.drop(columns=[\"user_id\",\"name\",\"date\", \"prod_id\"], inplace=True)"
      ],
      "execution_count": 7,
      "outputs": []
    },
    {
      "cell_type": "code",
      "metadata": {
        "id": "J_q6AL_r5qZn"
      },
      "source": [
        "df['label'] = df['label'].apply(lambda x: 0 if x == -1 else 1)"
      ],
      "execution_count": 8,
      "outputs": []
    },
    {
      "cell_type": "code",
      "metadata": {
        "id": "bOfuurRB5qZn"
      },
      "source": [
        "df['word_cnt'] = df['review'].apply(lambda x: len(x.split()))"
      ],
      "execution_count": 9,
      "outputs": []
    },
    {
      "cell_type": "code",
      "metadata": {
        "id": "bauCFoB15qZn"
      },
      "source": [
        "def count_exlaim(review):\n",
        "    count = 0\n",
        "    for i in range(len(review)):\n",
        "        if review[i] == '!':\n",
        "            count += 1\n",
        "    return count\n",
        "\n",
        "df['exclaim_cnt'] = df['review'].apply(count_exlaim)"
      ],
      "execution_count": 10,
      "outputs": []
    },
    {
      "cell_type": "code",
      "metadata": {
        "id": "38uxGxfo5qZo"
      },
      "source": [
        "def count_caps(review):\n",
        "    count = 0\n",
        "    for item in review.split():\n",
        "        if item.isupper():\n",
        "            count += 1\n",
        "    return count\n",
        "\n",
        "df['all_cap'] = df['review'].apply(count_caps)"
      ],
      "execution_count": 11,
      "outputs": []
    },
    {
      "cell_type": "code",
      "metadata": {
        "id": "xCPxeMyP5qZo"
      },
      "source": [
        "def count_sub(review):\n",
        "    count = 0\n",
        "    for item in review.split():\n",
        "        item = item.translate(str.maketrans('', '', string.punctuation)).lower()\n",
        "        if item in ['my', 'i', 'our', 'us', 'we']:\n",
        "            count += 1\n",
        "    return count\n",
        "\n",
        "df['sub_cnt'] = df['review'].apply(count_sub)"
      ],
      "execution_count": 12,
      "outputs": []
    },
    {
      "cell_type": "code",
      "metadata": {
        "id": "WACQYZOB5qZo"
      },
      "source": [
        "df['review'] = df['review'].apply(lambda x: x + '<sep>')"
      ],
      "execution_count": 13,
      "outputs": []
    },
    {
      "cell_type": "code",
      "metadata": {
        "id": "Zt_7GwHW5qZo"
      },
      "source": [
        "def eva_rate(rating):\n",
        "    if rating == 5:\n",
        "        return 'excellent '\n",
        "    elif rating == 4:\n",
        "        return 'good '\n",
        "    elif rating == 3:\n",
        "        return 'average '\n",
        "    else:\n",
        "        return 'bad '\n",
        "\n",
        "def eva_len(length):\n",
        "    if length >= 152:\n",
        "        return 'long '\n",
        "    elif length < 152 and length >= 50:\n",
        "        return 'medium '\n",
        "    else:\n",
        "        return 'short '\n",
        "\n",
        "def eva_sub(subj):\n",
        "    if subj >=  7:\n",
        "        return 'subjective '\n",
        "    elif subj < 7 and subj >= 3:\n",
        "        return 'medium '\n",
        "    else:\n",
        "        return 'objective '\n",
        "\n",
        "def eva_cap(caps):\n",
        "    return 'strong ' if caps > 2 else 'weak '\n",
        "\n",
        "def eva_exc(exclaim):\n",
        "    return 'strong ' if exclaim > 1 else 'weak '"
      ],
      "execution_count": 14,
      "outputs": []
    },
    {
      "cell_type": "code",
      "metadata": {
        "colab": {
          "base_uri": "https://localhost:8080/",
          "height": 297
        },
        "id": "qeJNMzpZ5qZo",
        "outputId": "e0851cc4-fc6a-4eba-e274-9910114ac30c"
      },
      "source": [
        "df.describe()"
      ],
      "execution_count": 15,
      "outputs": [
        {
          "output_type": "execute_result",
          "data": {
            "text/html": [
              "<div>\n",
              "<style scoped>\n",
              "    .dataframe tbody tr th:only-of-type {\n",
              "        vertical-align: middle;\n",
              "    }\n",
              "\n",
              "    .dataframe tbody tr th {\n",
              "        vertical-align: top;\n",
              "    }\n",
              "\n",
              "    .dataframe thead th {\n",
              "        text-align: right;\n",
              "    }\n",
              "</style>\n",
              "<table border=\"1\" class=\"dataframe\">\n",
              "  <thead>\n",
              "    <tr style=\"text-align: right;\">\n",
              "      <th></th>\n",
              "      <th>rating</th>\n",
              "      <th>label</th>\n",
              "      <th>word_cnt</th>\n",
              "      <th>exclaim_cnt</th>\n",
              "      <th>all_cap</th>\n",
              "      <th>sub_cnt</th>\n",
              "    </tr>\n",
              "  </thead>\n",
              "  <tbody>\n",
              "    <tr>\n",
              "      <th>count</th>\n",
              "      <td>608458.000000</td>\n",
              "      <td>608458.000000</td>\n",
              "      <td>608458.000000</td>\n",
              "      <td>608458.000000</td>\n",
              "      <td>608458.000000</td>\n",
              "      <td>608458.000000</td>\n",
              "    </tr>\n",
              "    <tr>\n",
              "      <th>mean</th>\n",
              "      <td>3.923561</td>\n",
              "      <td>0.867762</td>\n",
              "      <td>115.320343</td>\n",
              "      <td>1.185720</td>\n",
              "      <td>3.568463</td>\n",
              "      <td>5.150211</td>\n",
              "    </tr>\n",
              "    <tr>\n",
              "      <th>std</th>\n",
              "      <td>1.147478</td>\n",
              "      <td>0.338749</td>\n",
              "      <td>106.188676</td>\n",
              "      <td>2.669422</td>\n",
              "      <td>4.623456</td>\n",
              "      <td>6.205445</td>\n",
              "    </tr>\n",
              "    <tr>\n",
              "      <th>min</th>\n",
              "      <td>1.000000</td>\n",
              "      <td>0.000000</td>\n",
              "      <td>1.000000</td>\n",
              "      <td>0.000000</td>\n",
              "      <td>0.000000</td>\n",
              "      <td>0.000000</td>\n",
              "    </tr>\n",
              "    <tr>\n",
              "      <th>25%</th>\n",
              "      <td>3.000000</td>\n",
              "      <td>1.000000</td>\n",
              "      <td>44.000000</td>\n",
              "      <td>0.000000</td>\n",
              "      <td>1.000000</td>\n",
              "      <td>1.000000</td>\n",
              "    </tr>\n",
              "    <tr>\n",
              "      <th>50%</th>\n",
              "      <td>4.000000</td>\n",
              "      <td>1.000000</td>\n",
              "      <td>85.000000</td>\n",
              "      <td>0.000000</td>\n",
              "      <td>2.000000</td>\n",
              "      <td>3.000000</td>\n",
              "    </tr>\n",
              "    <tr>\n",
              "      <th>75%</th>\n",
              "      <td>5.000000</td>\n",
              "      <td>1.000000</td>\n",
              "      <td>152.000000</td>\n",
              "      <td>2.000000</td>\n",
              "      <td>5.000000</td>\n",
              "      <td>7.000000</td>\n",
              "    </tr>\n",
              "    <tr>\n",
              "      <th>max</th>\n",
              "      <td>5.000000</td>\n",
              "      <td>1.000000</td>\n",
              "      <td>5333.000000</td>\n",
              "      <td>1080.000000</td>\n",
              "      <td>276.000000</td>\n",
              "      <td>238.000000</td>\n",
              "    </tr>\n",
              "  </tbody>\n",
              "</table>\n",
              "</div>"
            ],
            "text/plain": [
              "              rating          label  ...        all_cap        sub_cnt\n",
              "count  608458.000000  608458.000000  ...  608458.000000  608458.000000\n",
              "mean        3.923561       0.867762  ...       3.568463       5.150211\n",
              "std         1.147478       0.338749  ...       4.623456       6.205445\n",
              "min         1.000000       0.000000  ...       0.000000       0.000000\n",
              "25%         3.000000       1.000000  ...       1.000000       1.000000\n",
              "50%         4.000000       1.000000  ...       2.000000       3.000000\n",
              "75%         5.000000       1.000000  ...       5.000000       7.000000\n",
              "max         5.000000       1.000000  ...     276.000000     238.000000\n",
              "\n",
              "[8 rows x 6 columns]"
            ]
          },
          "metadata": {
            "tags": []
          },
          "execution_count": 15
        }
      ]
    },
    {
      "cell_type": "code",
      "metadata": {
        "id": "tgk9T4Db5qZp"
      },
      "source": [
        "df['rating_str'] = df['rating'].apply(eva_rate)\n",
        "df['word_cnt_str'] = df['word_cnt'].apply(eva_len)\n",
        "df['all_cap_str'] = df['all_cap'].apply(eva_cap)\n",
        "df['sub_cnt_str'] = df['sub_cnt'].apply(eva_sub)\n",
        "df['exclaim_cnt_str'] = df['exclaim_cnt'].apply(eva_exc)"
      ],
      "execution_count": 16,
      "outputs": []
    },
    {
      "cell_type": "code",
      "metadata": {
        "id": "nkqLOB905qZp"
      },
      "source": [
        "df['review'] += df['rating_str'] + df['word_cnt_str'] + df['all_cap_str'] + df['sub_cnt_str'] + df['exclaim_cnt_str']"
      ],
      "execution_count": 17,
      "outputs": []
    },
    {
      "cell_type": "code",
      "metadata": {
        "id": "O1k16T165qZq"
      },
      "source": [
        "df_fake = df[df['label'] == 0]\n",
        "df_real = df[df['label'] == 1].sample(len(df_fake), random_state=42)"
      ],
      "execution_count": 18,
      "outputs": []
    },
    {
      "cell_type": "code",
      "metadata": {
        "id": "lKqsJRM05qZq"
      },
      "source": [
        "dff = pd.concat([df_fake, df_real])"
      ],
      "execution_count": 19,
      "outputs": []
    },
    {
      "cell_type": "code",
      "metadata": {
        "id": "5yAe3VUIvrkK",
        "colab": {
          "base_uri": "https://localhost:8080/"
        },
        "outputId": "26131db2-941d-47c5-9c88-cfee416c72f5"
      },
      "source": [
        "text_field = Field(\n",
        "    sequential=True,\n",
        "    tokenize='basic_english', \n",
        "    fix_length=400,\n",
        "    lower=True\n",
        ")\n",
        "\n",
        "label_field = Field(sequential=False, use_vocab=False)\n",
        "\n",
        "# sadly have to apply preprocess manually\n",
        "preprocessed_text = dff['review'].apply(\n",
        "    lambda x: text_field.preprocess(x)\n",
        ")\n",
        "\n",
        "# load fastext simple embedding with 300d\n",
        "text_field.build_vocab(\n",
        "    preprocessed_text, \n",
        "    vectors='fasttext.simple.300d'\n",
        ")\n",
        "\n",
        "# get the vocab instance\n",
        "vocab = text_field.vocab"
      ],
      "execution_count": 20,
      "outputs": [
        {
          "output_type": "stream",
          "text": [
            "\n",
            ".vector_cache/wiki.simple.vec: 0.00B [00:00, ?B/s]\u001b[A\n",
            ".vector_cache/wiki.simple.vec:   0%|          | 8.19k/293M [00:00<5:08:12, 15.9kB/s]\u001b[A\n",
            ".vector_cache/wiki.simple.vec:   0%|          | 57.3k/293M [00:00<3:39:58, 22.2kB/s]\u001b[A\n",
            ".vector_cache/wiki.simple.vec:   0%|          | 279k/293M [00:00<2:34:46, 31.5kB/s] \u001b[A\n",
            ".vector_cache/wiki.simple.vec:   0%|          | 1.17M/293M [00:00<1:48:14, 45.0kB/s]\u001b[A\n",
            ".vector_cache/wiki.simple.vec:   1%|▏         | 3.89M/293M [00:01<1:15:08, 64.2kB/s]\u001b[A\n",
            ".vector_cache/wiki.simple.vec:   2%|▏         | 6.71M/293M [00:01<52:09, 91.5kB/s]  \u001b[A\n",
            ".vector_cache/wiki.simple.vec:   4%|▎         | 10.3M/293M [00:01<36:06, 131kB/s] \u001b[A\n",
            ".vector_cache/wiki.simple.vec:   5%|▍         | 13.7M/293M [00:01<25:01, 186kB/s]\u001b[A\n",
            ".vector_cache/wiki.simple.vec:   6%|▌         | 17.6M/293M [00:01<17:19, 265kB/s]\u001b[A\n",
            ".vector_cache/wiki.simple.vec:   7%|▋         | 21.4M/293M [00:01<12:00, 377kB/s]\u001b[A\n",
            ".vector_cache/wiki.simple.vec:   9%|▊         | 25.5M/293M [00:01<08:19, 536kB/s]\u001b[A\n",
            ".vector_cache/wiki.simple.vec:  10%|█         | 29.5M/293M [00:02<05:47, 759kB/s]\u001b[A\n",
            ".vector_cache/wiki.simple.vec:  11%|█▏        | 33.5M/293M [00:02<04:05, 1.06MB/s]\u001b[A\n",
            ".vector_cache/wiki.simple.vec:  15%|█▍        | 42.7M/293M [00:02<02:47, 1.50MB/s]\u001b[A\n",
            ".vector_cache/wiki.simple.vec:  15%|█▌        | 45.2M/293M [00:02<01:58, 2.09MB/s]\u001b[A\n",
            ".vector_cache/wiki.simple.vec:  17%|█▋        | 48.7M/293M [00:02<01:24, 2.90MB/s]\u001b[A\n",
            ".vector_cache/wiki.simple.vec:  17%|█▋        | 51.0M/293M [00:02<01:01, 3.93MB/s]\u001b[A\n",
            ".vector_cache/wiki.simple.vec:  19%|█▊        | 54.6M/293M [00:02<00:44, 5.34MB/s]\u001b[A\n",
            ".vector_cache/wiki.simple.vec:  19%|█▉        | 57.0M/293M [00:03<00:33, 6.97MB/s]\u001b[A\n",
            ".vector_cache/wiki.simple.vec:  21%|██        | 60.4M/293M [00:03<00:25, 9.06MB/s]\u001b[A\n",
            ".vector_cache/wiki.simple.vec:  21%|██▏       | 63.0M/293M [00:03<00:20, 11.2MB/s]\u001b[A\n",
            ".vector_cache/wiki.simple.vec:  23%|██▎       | 66.5M/293M [00:03<00:16, 14.0MB/s]\u001b[A\n",
            ".vector_cache/wiki.simple.vec:  24%|██▎       | 69.0M/293M [00:03<00:13, 16.1MB/s]\u001b[A\n",
            ".vector_cache/wiki.simple.vec:  25%|██▍       | 72.5M/293M [00:03<00:11, 18.9MB/s]\u001b[A\n",
            ".vector_cache/wiki.simple.vec:  26%|██▌       | 74.9M/293M [00:03<00:10, 20.0MB/s]\u001b[A\n",
            ".vector_cache/wiki.simple.vec:  27%|██▋       | 78.5M/293M [00:03<00:09, 22.8MB/s]\u001b[A\n",
            ".vector_cache/wiki.simple.vec:  28%|██▊       | 81.0M/293M [00:03<00:09, 23.4MB/s]\u001b[A\n",
            ".vector_cache/wiki.simple.vec:  29%|██▊       | 83.6M/293M [00:03<00:08, 23.9MB/s]\u001b[A\n",
            ".vector_cache/wiki.simple.vec:  30%|██▉       | 86.9M/293M [00:04<00:08, 25.5MB/s]\u001b[A\n",
            ".vector_cache/wiki.simple.vec:  31%|███       | 90.2M/293M [00:04<00:07, 26.3MB/s]\u001b[A\n",
            ".vector_cache/wiki.simple.vec:  32%|███▏      | 93.6M/293M [00:04<00:07, 28.3MB/s]\u001b[A\n",
            ".vector_cache/wiki.simple.vec:  33%|███▎      | 96.0M/293M [00:04<00:07, 25.6MB/s]\u001b[A\n",
            ".vector_cache/wiki.simple.vec:  34%|███▍      | 99.4M/293M [00:04<00:07, 27.7MB/s]\u001b[A\n",
            ".vector_cache/wiki.simple.vec:  35%|███▍      | 102M/293M [00:04<00:07, 27.0MB/s] \u001b[A\n",
            ".vector_cache/wiki.simple.vec:  36%|███▌      | 105M/293M [00:04<00:07, 26.2MB/s]\u001b[A\n",
            ".vector_cache/wiki.simple.vec:  37%|███▋      | 108M/293M [00:04<00:06, 27.6MB/s]\u001b[A\n",
            ".vector_cache/wiki.simple.vec:  38%|███▊      | 110M/293M [00:04<00:06, 26.9MB/s]\u001b[A\n",
            ".vector_cache/wiki.simple.vec:  39%|███▉      | 114M/293M [00:05<00:06, 28.4MB/s]\u001b[A\n",
            ".vector_cache/wiki.simple.vec:  40%|███▉      | 116M/293M [00:05<00:06, 27.4MB/s]\u001b[A\n",
            ".vector_cache/wiki.simple.vec:  41%|████      | 120M/293M [00:05<00:06, 27.9MB/s]\u001b[A\n",
            ".vector_cache/wiki.simple.vec:  42%|████▏     | 123M/293M [00:05<00:06, 27.8MB/s]\u001b[A\n",
            ".vector_cache/wiki.simple.vec:  43%|████▎     | 126M/293M [00:05<00:05, 28.4MB/s]\u001b[A\n",
            ".vector_cache/wiki.simple.vec:  44%|████▍     | 128M/293M [00:05<00:05, 28.1MB/s]\u001b[A\n",
            ".vector_cache/wiki.simple.vec:  45%|████▍     | 132M/293M [00:05<00:05, 27.9MB/s]\u001b[A\n",
            ".vector_cache/wiki.simple.vec:  46%|████▌     | 134M/293M [00:05<00:05, 28.2MB/s]\u001b[A\n",
            ".vector_cache/wiki.simple.vec:  47%|████▋     | 138M/293M [00:05<00:05, 27.7MB/s]\u001b[A\n",
            ".vector_cache/wiki.simple.vec:  48%|████▊     | 141M/293M [00:05<00:05, 29.4MB/s]\u001b[A\n",
            ".vector_cache/wiki.simple.vec:  49%|████▉     | 144M/293M [00:06<00:05, 28.5MB/s]\u001b[A\n",
            ".vector_cache/wiki.simple.vec:  50%|████▉     | 147M/293M [00:06<00:05, 27.9MB/s]\u001b[A\n",
            ".vector_cache/wiki.simple.vec:  51%|█████     | 149M/293M [00:06<00:05, 27.9MB/s]\u001b[A\n",
            ".vector_cache/wiki.simple.vec:  52%|█████▏    | 152M/293M [00:06<00:04, 28.3MB/s]\u001b[A\n",
            ".vector_cache/wiki.simple.vec:  53%|█████▎    | 155M/293M [00:06<00:04, 28.1MB/s]\u001b[A\n",
            ".vector_cache/wiki.simple.vec:  54%|█████▍    | 159M/293M [00:06<00:04, 28.8MB/s]\u001b[A\n",
            ".vector_cache/wiki.simple.vec:  55%|█████▌    | 161M/293M [00:06<00:04, 28.1MB/s]\u001b[A\n",
            ".vector_cache/wiki.simple.vec:  56%|█████▌    | 165M/293M [00:06<00:04, 29.0MB/s]\u001b[A\n",
            ".vector_cache/wiki.simple.vec:  57%|█████▋    | 167M/293M [00:06<00:04, 27.8MB/s]\u001b[A\n",
            ".vector_cache/wiki.simple.vec:  58%|█████▊    | 171M/293M [00:07<00:04, 29.1MB/s]\u001b[A\n",
            ".vector_cache/wiki.simple.vec:  59%|█████▉    | 173M/293M [00:07<00:04, 27.5MB/s]\u001b[A\n",
            ".vector_cache/wiki.simple.vec:  60%|██████    | 176M/293M [00:07<00:04, 28.8MB/s]\u001b[A\n",
            ".vector_cache/wiki.simple.vec:  61%|██████    | 179M/293M [00:07<00:04, 27.4MB/s]\u001b[A\n",
            ".vector_cache/wiki.simple.vec:  62%|██████▏   | 183M/293M [00:07<00:03, 28.9MB/s]\u001b[A\n",
            ".vector_cache/wiki.simple.vec:  63%|██████▎   | 185M/293M [00:07<00:03, 27.3MB/s]\u001b[A\n",
            ".vector_cache/wiki.simple.vec:  64%|██████▍   | 188M/293M [00:07<00:03, 28.4MB/s]\u001b[A\n",
            ".vector_cache/wiki.simple.vec:  65%|██████▌   | 191M/293M [00:07<00:03, 27.6MB/s]\u001b[A\n",
            ".vector_cache/wiki.simple.vec:  66%|██████▋   | 195M/293M [00:07<00:03, 28.8MB/s]\u001b[A\n",
            ".vector_cache/wiki.simple.vec:  67%|██████▋   | 197M/293M [00:07<00:03, 27.5MB/s]\u001b[A\n",
            ".vector_cache/wiki.simple.vec:  68%|██████▊   | 200M/293M [00:08<00:03, 28.9MB/s]\u001b[A\n",
            ".vector_cache/wiki.simple.vec:  69%|██████▉   | 203M/293M [00:08<00:03, 27.1MB/s]\u001b[A\n",
            ".vector_cache/wiki.simple.vec:  70%|███████   | 207M/293M [00:08<00:03, 28.1MB/s]\u001b[A\n",
            ".vector_cache/wiki.simple.vec:  71%|███████▏  | 209M/293M [00:08<00:03, 27.2MB/s]\u001b[A\n",
            ".vector_cache/wiki.simple.vec:  73%|███████▎  | 213M/293M [00:08<00:02, 28.4MB/s]\u001b[A\n",
            ".vector_cache/wiki.simple.vec:  73%|███████▎  | 215M/293M [00:08<00:02, 27.4MB/s]\u001b[A\n",
            ".vector_cache/wiki.simple.vec:  75%|███████▍  | 219M/293M [00:08<00:02, 28.6MB/s]\u001b[A\n",
            ".vector_cache/wiki.simple.vec:  75%|███████▌  | 221M/293M [00:08<00:02, 27.2MB/s]\u001b[A\n",
            ".vector_cache/wiki.simple.vec:  77%|███████▋  | 225M/293M [00:08<00:02, 28.2MB/s]\u001b[A\n",
            ".vector_cache/wiki.simple.vec:  78%|███████▊  | 227M/293M [00:09<00:02, 27.8MB/s]\u001b[A\n",
            ".vector_cache/wiki.simple.vec:  79%|███████▊  | 231M/293M [00:09<00:02, 28.8MB/s]\u001b[A\n",
            ".vector_cache/wiki.simple.vec:  80%|███████▉  | 233M/293M [00:09<00:02, 27.5MB/s]\u001b[A\n",
            ".vector_cache/wiki.simple.vec:  81%|████████  | 236M/293M [00:09<00:02, 27.8MB/s]\u001b[A\n",
            ".vector_cache/wiki.simple.vec:  81%|████████▏ | 239M/293M [00:09<00:01, 27.9MB/s]\u001b[A\n",
            ".vector_cache/wiki.simple.vec:  83%|████████▎ | 242M/293M [00:09<00:01, 28.3MB/s]\u001b[A\n",
            ".vector_cache/wiki.simple.vec:  84%|████████▎ | 245M/293M [00:09<00:01, 28.3MB/s]\u001b[A\n",
            ".vector_cache/wiki.simple.vec:  85%|████████▍ | 248M/293M [00:09<00:01, 28.2MB/s]\u001b[A\n",
            ".vector_cache/wiki.simple.vec:  86%|████████▌ | 251M/293M [00:09<00:01, 28.2MB/s]\u001b[A\n",
            ".vector_cache/wiki.simple.vec:  87%|████████▋ | 254M/293M [00:09<00:01, 28.4MB/s]\u001b[A\n",
            ".vector_cache/wiki.simple.vec:  88%|████████▊ | 257M/293M [00:10<00:01, 28.3MB/s]\u001b[A\n",
            ".vector_cache/wiki.simple.vec:  89%|████████▊ | 260M/293M [00:10<00:01, 28.6MB/s]\u001b[A\n",
            ".vector_cache/wiki.simple.vec:  90%|████████▉ | 263M/293M [00:10<00:01, 28.3MB/s]\u001b[A\n",
            ".vector_cache/wiki.simple.vec:  91%|█████████ | 266M/293M [00:10<00:00, 28.7MB/s]\u001b[A\n",
            ".vector_cache/wiki.simple.vec:  92%|█████████▏| 269M/293M [00:10<00:00, 28.2MB/s]\u001b[A\n",
            ".vector_cache/wiki.simple.vec:  93%|█████████▎| 272M/293M [00:10<00:00, 28.6MB/s]\u001b[A\n",
            ".vector_cache/wiki.simple.vec:  94%|█████████▎| 275M/293M [00:10<00:00, 28.2MB/s]\u001b[A\n",
            ".vector_cache/wiki.simple.vec:  95%|█████████▍| 278M/293M [00:10<00:00, 28.6MB/s]\u001b[A\n",
            ".vector_cache/wiki.simple.vec:  96%|█████████▌| 281M/293M [00:10<00:00, 28.7MB/s]\u001b[A\n",
            ".vector_cache/wiki.simple.vec:  97%|█████████▋| 284M/293M [00:11<00:00, 29.0MB/s]\u001b[A\n",
            ".vector_cache/wiki.simple.vec:  98%|█████████▊| 287M/293M [00:11<00:00, 29.4MB/s]\u001b[A\n",
            ".vector_cache/wiki.simple.vec:  99%|█████████▊| 289M/293M [00:11<00:00, 28.2MB/s]\u001b[A\n",
            ".vector_cache/wiki.simple.vec: 293MB [00:11, 25.8MB/s]                           \n",
            "\n",
            "  0%|          | 0/111051 [00:00<?, ?it/s]\u001b[ASkipping token b'111051' with 1-dimensional vector [b'300']; likely a header\n",
            "\n",
            "  1%|          | 797/111051 [00:00<00:13, 7960.10it/s]\u001b[A\n",
            "  1%|▏         | 1598/111051 [00:00<00:13, 7974.19it/s]\u001b[A\n",
            "  2%|▏         | 2368/111051 [00:00<00:13, 7888.11it/s]\u001b[A\n",
            "  3%|▎         | 3163/111051 [00:00<00:13, 7906.39it/s]\u001b[A\n",
            "  4%|▎         | 3922/111051 [00:00<00:13, 7807.07it/s]\u001b[A\n",
            "  4%|▍         | 4668/111051 [00:00<00:13, 7698.04it/s]\u001b[A\n",
            "  5%|▍         | 5396/111051 [00:00<00:13, 7565.69it/s]\u001b[A\n",
            "  6%|▌         | 6186/111051 [00:00<00:13, 7661.06it/s]\u001b[A\n",
            "  6%|▋         | 6959/111051 [00:00<00:13, 7680.85it/s]\u001b[A\n",
            "  7%|▋         | 7735/111051 [00:01<00:13, 7703.30it/s]\u001b[A\n",
            "  8%|▊         | 8544/111051 [00:01<00:13, 7814.58it/s]\u001b[A\n",
            "  8%|▊         | 9334/111051 [00:01<00:12, 7838.86it/s]\u001b[A\n",
            "  9%|▉         | 10108/111051 [00:01<00:13, 7728.27it/s]\u001b[A\n",
            " 10%|▉         | 10912/111051 [00:01<00:12, 7817.96it/s]\u001b[A\n",
            " 11%|█         | 11690/111051 [00:01<00:12, 7751.40it/s]\u001b[A\n",
            " 11%|█▏        | 12504/111051 [00:01<00:12, 7863.73it/s]\u001b[A\n",
            " 12%|█▏        | 13333/111051 [00:01<00:12, 7985.86it/s]\u001b[A\n",
            " 13%|█▎        | 14131/111051 [00:01<00:12, 7716.95it/s]\u001b[A\n",
            " 13%|█▎        | 14906/111051 [00:01<00:12, 7726.53it/s]\u001b[A\n",
            " 14%|█▍        | 15711/111051 [00:02<00:12, 7818.91it/s]\u001b[A\n",
            " 15%|█▍        | 16521/111051 [00:02<00:11, 7898.91it/s]\u001b[A\n",
            " 16%|█▌        | 17321/111051 [00:02<00:11, 7925.63it/s]\u001b[A\n",
            " 16%|█▋        | 18115/111051 [00:02<00:11, 7817.16it/s]\u001b[A\n",
            " 17%|█▋        | 18899/111051 [00:02<00:11, 7823.73it/s]\u001b[A\n",
            " 18%|█▊        | 19732/111051 [00:02<00:11, 7968.50it/s]\u001b[A\n",
            " 18%|█▊        | 20533/111051 [00:02<00:11, 7979.83it/s]\u001b[A\n",
            " 19%|█▉        | 21332/111051 [00:02<00:11, 7959.45it/s]\u001b[A\n",
            " 20%|█▉        | 22129/111051 [00:02<00:11, 7854.34it/s]\u001b[A\n",
            " 21%|██        | 22916/111051 [00:02<00:11, 7772.83it/s]\u001b[A\n",
            " 21%|██▏       | 23694/111051 [00:03<00:11, 7736.70it/s]\u001b[A\n",
            " 22%|██▏       | 24487/111051 [00:03<00:11, 7790.56it/s]\u001b[A\n",
            " 23%|██▎       | 25328/111051 [00:03<00:10, 7965.80it/s]\u001b[A\n",
            " 24%|██▎       | 26129/111051 [00:03<00:10, 7978.66it/s]\u001b[A\n",
            " 24%|██▍       | 26954/111051 [00:03<00:10, 8056.10it/s]\u001b[A\n",
            " 25%|██▌       | 27764/111051 [00:03<00:10, 8066.10it/s]\u001b[A\n",
            " 26%|██▌       | 28572/111051 [00:03<00:10, 7765.13it/s]\u001b[A\n",
            " 26%|██▋       | 29369/111051 [00:03<00:10, 7823.90it/s]\u001b[A\n",
            " 27%|██▋       | 30161/111051 [00:03<00:10, 7852.39it/s]\u001b[A\n",
            " 28%|██▊       | 30948/111051 [00:03<00:10, 7833.38it/s]\u001b[A\n",
            " 29%|██▊       | 31757/111051 [00:04<00:10, 7908.57it/s]\u001b[A\n",
            " 29%|██▉       | 32549/111051 [00:04<00:09, 7867.99it/s]\u001b[A\n",
            " 30%|███       | 33349/111051 [00:04<00:09, 7904.64it/s]\u001b[A\n",
            " 31%|███       | 34140/111051 [00:04<00:09, 7810.76it/s]\u001b[A\n",
            " 31%|███▏      | 34949/111051 [00:04<00:09, 7886.03it/s]\u001b[A\n",
            " 32%|███▏      | 35739/111051 [00:04<00:09, 7717.99it/s]\u001b[A\n",
            " 33%|███▎      | 36513/111051 [00:04<00:09, 7628.77it/s]\u001b[A\n",
            " 34%|███▎      | 37290/111051 [00:04<00:09, 7669.27it/s]\u001b[A\n",
            " 34%|███▍      | 38058/111051 [00:04<00:09, 7654.55it/s]\u001b[A\n",
            " 35%|███▌      | 38879/111051 [00:04<00:09, 7810.83it/s]\u001b[A\n",
            " 36%|███▌      | 39679/111051 [00:05<00:09, 7864.39it/s]\u001b[A\n",
            " 36%|███▋      | 40467/111051 [00:05<00:09, 7834.79it/s]\u001b[A\n",
            " 37%|███▋      | 41273/111051 [00:05<00:08, 7899.16it/s]\u001b[A\n",
            " 38%|███▊      | 42064/111051 [00:05<00:09, 7653.32it/s]\u001b[A\n",
            " 39%|███▊      | 42832/111051 [00:05<00:09, 7512.07it/s]\u001b[A\n",
            " 39%|███▉      | 43646/111051 [00:05<00:08, 7689.04it/s]\u001b[A\n",
            " 40%|████      | 44425/111051 [00:05<00:08, 7717.91it/s]\u001b[A\n",
            " 41%|████      | 45234/111051 [00:05<00:08, 7821.71it/s]\u001b[A\n",
            " 41%|████▏     | 46023/111051 [00:05<00:08, 7842.02it/s]\u001b[A\n",
            " 42%|████▏     | 46842/111051 [00:05<00:08, 7942.46it/s]\u001b[A\n",
            " 43%|████▎     | 47638/111051 [00:06<00:08, 7828.66it/s]\u001b[A\n",
            " 44%|████▎     | 48431/111051 [00:06<00:07, 7858.19it/s]\u001b[A\n",
            " 44%|████▍     | 49276/111051 [00:06<00:07, 8024.97it/s]\u001b[A\n",
            " 45%|████▌     | 50094/111051 [00:06<00:07, 8069.95it/s]\u001b[A\n",
            " 46%|████▌     | 50903/111051 [00:06<00:07, 7988.63it/s]\u001b[A\n",
            " 47%|████▋     | 51712/111051 [00:06<00:07, 8016.35it/s]\u001b[A\n",
            " 47%|████▋     | 52522/111051 [00:06<00:07, 8039.04it/s]\u001b[A\n",
            " 48%|████▊     | 53337/111051 [00:06<00:07, 8070.88it/s]\u001b[A\n",
            " 49%|████▉     | 54145/111051 [00:06<00:07, 7915.63it/s]\u001b[A\n",
            " 49%|████▉     | 54938/111051 [00:07<00:07, 7905.68it/s]\u001b[A\n",
            " 50%|█████     | 55730/111051 [00:07<00:07, 7889.57it/s]\u001b[A\n",
            " 51%|█████     | 56537/111051 [00:07<00:06, 7940.44it/s]\u001b[A\n",
            " 52%|█████▏    | 57345/111051 [00:07<00:06, 7980.38it/s]\u001b[A\n",
            " 52%|█████▏    | 58144/111051 [00:07<00:06, 7846.14it/s]\u001b[A\n",
            " 53%|█████▎    | 58960/111051 [00:07<00:06, 7936.96it/s]\u001b[A\n",
            " 54%|█████▍    | 59755/111051 [00:07<00:06, 7826.50it/s]\u001b[A\n",
            " 55%|█████▍    | 60539/111051 [00:07<00:06, 7728.35it/s]\u001b[A\n",
            " 55%|█████▌    | 61313/111051 [00:07<00:06, 7718.89it/s]\u001b[A\n",
            " 56%|█████▌    | 62088/111051 [00:07<00:06, 7726.73it/s]\u001b[A\n",
            " 57%|█████▋    | 62906/111051 [00:08<00:06, 7855.76it/s]\u001b[A\n",
            " 57%|█████▋    | 63720/111051 [00:08<00:05, 7938.82it/s]\u001b[A\n",
            " 58%|█████▊    | 64533/111051 [00:08<00:05, 7992.55it/s]\u001b[A\n",
            " 59%|█████▉    | 65357/111051 [00:08<00:05, 8063.65it/s]\u001b[A\n",
            " 60%|█████▉    | 66164/111051 [00:08<00:05, 7979.20it/s]\u001b[A\n",
            " 60%|██████    | 66963/111051 [00:08<00:05, 7893.58it/s]\u001b[A\n",
            " 61%|██████    | 67754/111051 [00:08<00:05, 7881.88it/s]\u001b[A\n",
            " 62%|██████▏   | 68543/111051 [00:08<00:05, 7823.62it/s]\u001b[A\n",
            " 62%|██████▏   | 69326/111051 [00:08<00:05, 7779.47it/s]\u001b[A\n",
            " 63%|██████▎   | 70134/111051 [00:08<00:05, 7866.94it/s]\u001b[A\n",
            " 64%|██████▍   | 70938/111051 [00:09<00:05, 7915.86it/s]\u001b[A\n",
            " 65%|██████▍   | 71730/111051 [00:09<00:05, 7828.10it/s]\u001b[A\n",
            " 65%|██████▌   | 72514/111051 [00:09<00:04, 7784.35it/s]\u001b[A\n",
            " 66%|██████▌   | 73340/111051 [00:09<00:04, 7919.64it/s]\u001b[A\n",
            " 67%|██████▋   | 74133/111051 [00:09<00:04, 7840.76it/s]\u001b[A\n",
            " 67%|██████▋   | 74937/111051 [00:09<00:04, 7898.34it/s]\u001b[A\n",
            " 68%|██████▊   | 75754/111051 [00:09<00:04, 7977.83it/s]\u001b[A\n",
            " 69%|██████▉   | 76553/111051 [00:09<00:04, 7912.04it/s]\u001b[A\n",
            " 70%|██████▉   | 77345/111051 [00:09<00:04, 7718.45it/s]\u001b[A\n",
            " 70%|███████   | 78119/111051 [00:09<00:04, 7699.50it/s]\u001b[A\n",
            " 71%|███████   | 78903/111051 [00:10<00:04, 7738.55it/s]\u001b[A\n",
            " 72%|███████▏  | 79725/111051 [00:10<00:03, 7876.71it/s]\u001b[A\n",
            " 73%|███████▎  | 80514/111051 [00:10<00:03, 7815.80it/s]\u001b[A\n",
            " 73%|███████▎  | 81335/111051 [00:10<00:03, 7929.46it/s]\u001b[A\n",
            " 74%|███████▍  | 82129/111051 [00:10<00:03, 7885.92it/s]\u001b[A\n",
            " 75%|███████▍  | 82924/111051 [00:10<00:03, 7901.96it/s]\u001b[A\n",
            " 75%|███████▌  | 83715/111051 [00:10<00:03, 7844.77it/s]\u001b[A\n",
            " 76%|███████▌  | 84500/111051 [00:10<00:03, 7781.21it/s]\u001b[A\n",
            " 77%|███████▋  | 85279/111051 [00:10<00:03, 7659.74it/s]\u001b[A\n",
            " 77%|███████▋  | 86049/111051 [00:10<00:03, 7670.91it/s]\u001b[A\n",
            " 78%|███████▊  | 86822/111051 [00:11<00:03, 7685.75it/s]\u001b[A\n",
            " 79%|███████▉  | 87591/111051 [00:11<00:03, 7673.11it/s]\u001b[A\n",
            " 80%|███████▉  | 88412/111051 [00:11<00:02, 7824.95it/s]\u001b[A\n",
            " 80%|████████  | 89212/111051 [00:11<00:02, 7876.19it/s]\u001b[A\n",
            " 81%|████████  | 90004/111051 [00:11<00:02, 7888.38it/s]\u001b[A\n",
            " 82%|████████▏ | 90794/111051 [00:11<00:02, 7770.90it/s]\u001b[A\n",
            " 82%|████████▏ | 91573/111051 [00:11<00:02, 7775.93it/s]\u001b[A\n",
            " 83%|████████▎ | 92363/111051 [00:11<00:02, 7812.42it/s]\u001b[A\n",
            " 84%|████████▍ | 93171/111051 [00:11<00:02, 7889.77it/s]\u001b[A\n",
            " 85%|████████▍ | 93979/111051 [00:11<00:02, 7945.19it/s]\u001b[A\n",
            " 85%|████████▌ | 94774/111051 [00:12<00:02, 7781.57it/s]\u001b[A\n",
            " 86%|████████▌ | 95554/111051 [00:12<00:02, 7694.84it/s]\u001b[A\n",
            " 87%|████████▋ | 96329/111051 [00:12<00:01, 7711.24it/s]\u001b[A\n",
            " 87%|████████▋ | 97126/111051 [00:12<00:01, 7786.63it/s]\u001b[A\n",
            " 88%|████████▊ | 97906/111051 [00:12<00:01, 7712.30it/s]\u001b[A\n",
            " 89%|████████▉ | 98704/111051 [00:12<00:01, 7788.67it/s]\u001b[A\n",
            " 90%|████████▉ | 99484/111051 [00:12<00:01, 7628.43it/s]\u001b[A\n",
            " 90%|█████████ | 100249/111051 [00:12<00:01, 7479.36it/s]\u001b[A\n",
            " 91%|█████████ | 101018/111051 [00:12<00:01, 7540.63it/s]\u001b[A\n",
            " 92%|█████████▏| 101844/111051 [00:13<00:01, 7742.02it/s]\u001b[A\n",
            " 92%|█████████▏| 102639/111051 [00:13<00:01, 7801.81it/s]\u001b[A\n",
            " 93%|█████████▎| 103421/111051 [00:13<00:00, 7776.67it/s]\u001b[A\n",
            " 94%|█████████▍| 104226/111051 [00:13<00:00, 7853.32it/s]\u001b[A\n",
            " 95%|█████████▍| 105013/111051 [00:13<00:00, 7774.76it/s]\u001b[A\n",
            " 95%|█████████▌| 105792/111051 [00:13<00:00, 7704.04it/s]\u001b[A\n",
            " 96%|█████████▌| 106564/111051 [00:13<00:00, 7681.88it/s]\u001b[A\n",
            " 97%|█████████▋| 107360/111051 [00:13<00:00, 7761.59it/s]\u001b[A\n",
            " 97%|█████████▋| 108137/111051 [00:13<00:00, 7747.34it/s]\u001b[A\n",
            " 98%|█████████▊| 108913/111051 [00:13<00:00, 7698.71it/s]\u001b[A\n",
            " 99%|█████████▉| 109695/111051 [00:14<00:00, 7733.42it/s]\u001b[A\n",
            " 99%|█████████▉| 110469/111051 [00:14<00:00, 7630.37it/s]\u001b[A"
          ],
          "name": "stderr"
        }
      ]
    },
    {
      "cell_type": "code",
      "metadata": {
        "id": "LkTbWWyhvrkL"
      },
      "source": [
        "class DataFrameDataset(Dataset):\n",
        "    def __init__(self, df: pd.DataFrame, fields: list):\n",
        "        super(DataFrameDataset, self).__init__(\n",
        "            [\n",
        "                Example.fromlist(list(r), fields) \n",
        "                for i, r in df.iterrows()\n",
        "            ], \n",
        "            fields\n",
        "        )"
      ],
      "execution_count": 21,
      "outputs": []
    },
    {
      "cell_type": "code",
      "metadata": {
        "id": "whBYMXmsvrkL",
        "colab": {
          "base_uri": "https://localhost:8080/"
        },
        "outputId": "e4c1d839-c346-4edb-f485-e1c1647fa273"
      },
      "source": [
        "train_dataset, test_dataset = DataFrameDataset(\n",
        "    df=dff[['review', 'label']], \n",
        "    fields=(\n",
        "        ('review', text_field),\n",
        "        ('label', label_field)\n",
        "    )\n",
        ").split(split_ratio=0.8)"
      ],
      "execution_count": 22,
      "outputs": [
        {
          "output_type": "stream",
          "text": [
            "\n",
            " 99%|█████████▉| 110469/111051 [00:29<00:00, 7630.37it/s]\u001b[A"
          ],
          "name": "stderr"
        }
      ]
    },
    {
      "cell_type": "code",
      "metadata": {
        "id": "kSEZum_WvrkL"
      },
      "source": [
        "train_iter, test_iter = BucketIterator.splits(\n",
        "    datasets=(train_dataset, test_dataset), \n",
        "    batch_sizes=(16, 16),\n",
        "    sort=False\n",
        ")"
      ],
      "execution_count": 23,
      "outputs": []
    },
    {
      "cell_type": "code",
      "metadata": {
        "id": "QeqMaYPjvrkM"
      },
      "source": [
        "class ModelParam(object):\n",
        "    def __init__(self, param_dict: dict = dict()):\n",
        "        self.input_size = param_dict.get('input_size', 0)\n",
        "        self.vocab_size = param_dict.get('vocab_size')\n",
        "        self.embedding_dim = param_dict.get('embedding_dim', 300)\n",
        "        self.target_dim = param_dict.get('target_dim', 2)\n",
        "        self.hidden_dim = param_dict.get('hidden_dim', 128)\n",
        "        \n",
        "class MyClfModel(nn.Module):\n",
        "    def __init__(self, model_param: ModelParam):\n",
        "        super().__init__()\n",
        "        self.embedding = nn.Embedding(\n",
        "            model_param.vocab_size, \n",
        "            model_param.embedding_dim\n",
        "        )\n",
        "        \n",
        "        self.lstm = nn.LSTM(\n",
        "            model_param.input_size * model_param.embedding_dim, \n",
        "            model_param.hidden_dim * 2\n",
        "        ).cuda()\n",
        "        \n",
        "        self.lin1 = nn.Linear(\n",
        "            model_param.hidden_dim * 2, \n",
        "            model_param.hidden_dim\n",
        "        ).cuda()\n",
        "                \n",
        "        self.lin2 = nn.Linear(\n",
        "            model_param.hidden_dim,\n",
        "            model_param.target_dim\n",
        "        ).cuda()\n",
        "        \n",
        "        self.init_weights()\n",
        "\n",
        "    def init_weights(self):\n",
        "        initrange = 0.1\n",
        "        self.embedding.weight.data.uniform_(-initrange, initrange)\n",
        "        self.lin1.weight.data.uniform_(-initrange, initrange)\n",
        "        self.lin2.weight.data.uniform_(-initrange, initrange)\n",
        "        \n",
        "        self.lin1.bias.data.zero_()\n",
        "        self.lin2.bias.data.zero_()\n",
        "        \n",
        "        \n",
        "    def forward(self, x):\n",
        "        features = self.embedding(x).view(x.size()[0], 1, -1)\n",
        "        lstm_out, _ = self.lstm(features)\n",
        "        # features = F.relu(features)\n",
        "        features = self.lin1(lstm_out.view(x.size()[0], -1))\n",
        "        #features = self.lin3(features)\n",
        "        features = self.lin2(features)\n",
        "        return features"
      ],
      "execution_count": 28,
      "outputs": []
    },
    {
      "cell_type": "code",
      "metadata": {
        "colab": {
          "base_uri": "https://localhost:8080/"
        },
        "id": "uKTfrZWj5qZr",
        "outputId": "cb64faaf-ea46-45f9-895d-d9a98b3ab560"
      },
      "source": [
        "torch.cuda.is_available()"
      ],
      "execution_count": 29,
      "outputs": [
        {
          "output_type": "execute_result",
          "data": {
            "text/plain": [
              "True"
            ]
          },
          "metadata": {
            "tags": []
          },
          "execution_count": 29
        }
      ]
    },
    {
      "cell_type": "code",
      "metadata": {
        "colab": {
          "base_uri": "https://localhost:8080/"
        },
        "id": "4S5bj5x75qZr",
        "outputId": "7db8e99b-ed7f-4318-d7af-145aa2e9c58a"
      },
      "source": [
        "!nvidia-smi"
      ],
      "execution_count": 30,
      "outputs": [
        {
          "output_type": "stream",
          "text": [
            "Wed Apr 28 10:07:19 2021       \n",
            "+-----------------------------------------------------------------------------+\n",
            "| NVIDIA-SMI 465.19.01    Driver Version: 460.32.03    CUDA Version: 11.2     |\n",
            "|-------------------------------+----------------------+----------------------+\n",
            "| GPU  Name        Persistence-M| Bus-Id        Disp.A | Volatile Uncorr. ECC |\n",
            "| Fan  Temp  Perf  Pwr:Usage/Cap|         Memory-Usage | GPU-Util  Compute M. |\n",
            "|                               |                      |               MIG M. |\n",
            "|===============================+======================+======================|\n",
            "|   0  Tesla P100-PCIE...  Off  | 00000000:00:04.0 Off |                    0 |\n",
            "| N/A   46C    P0    35W / 250W |   2311MiB / 16280MiB |      0%      Default |\n",
            "|                               |                      |                  N/A |\n",
            "+-------------------------------+----------------------+----------------------+\n",
            "                                                                               \n",
            "+-----------------------------------------------------------------------------+\n",
            "| Processes:                                                                  |\n",
            "|  GPU   GI   CI        PID   Type   Process name                  GPU Memory |\n",
            "|        ID   ID                                                   Usage      |\n",
            "|=============================================================================|\n",
            "+-----------------------------------------------------------------------------+\n"
          ],
          "name": "stdout"
        }
      ]
    },
    {
      "cell_type": "code",
      "metadata": {
        "colab": {
          "base_uri": "https://localhost:8080/"
        },
        "id": "wBih0mNgvrkM",
        "outputId": "9b8e45bf-c8c3-453b-db02-f1644febfc03"
      },
      "source": [
        "model_param = ModelParam(\n",
        "    param_dict=dict(\n",
        "        vocab_size=len(text_field.vocab),\n",
        "        input_size=400,\n",
        "        target_dim=2\n",
        "    )\n",
        ")\n",
        "\n",
        "device = torch.device(\"cuda\") if torch.cuda.is_available() else torch.device(\"cpu\")\n",
        "\n",
        "model = MyClfModel(model_param)\n",
        "\n",
        "model.to(device)\n",
        "model.cuda()\n",
        "\n",
        "loss_function = nn.CrossEntropyLoss()\n",
        "\n",
        "optimizer = torch.optim.AdamW(model.parameters(), lr=0.01)\n",
        "\n",
        "epochs = 5\n",
        "\n",
        "train_loss = list()\n",
        "train_acc = list()\n",
        "test_loss = list()\n",
        "test_acc = list()\n",
        "\n",
        "for epoch in range(epochs):\n",
        "    print('Starting epoch ' + str(epoch + 1) + ':')\n",
        "    \n",
        "    epoch_losses = list()\n",
        "    epoch_accs = list()\n",
        "    \n",
        "    cnt_steps = 0\n",
        "    for batch in train_iter:\n",
        "        \n",
        "        optimizer.zero_grad()\n",
        "\n",
        "        prediction = model(batch.review.T.to(device)).cpu()\n",
        "                \n",
        "        loss = loss_function(prediction, batch.label)\n",
        "\n",
        "        loss.backward()\n",
        "        \n",
        "        optimizer.step()\n",
        "        \n",
        "        epoch_losses.append(loss.item())\n",
        "        \n",
        "        epoch_accs.append(int((prediction.argmax(1) == batch.label).sum()) / len(batch.label))\n",
        "            \n",
        "    print('train loss on epoch {} : {:.3f}'.format(epoch + 1, np.mean(epoch_losses)))\n",
        "    print('train acc on epoch {}: {:.3f}'.format(epoch + 1, np.max(epoch_accs)))\n",
        "    train_loss.append(np.mean(epoch_losses))\n",
        "    train_acc.append(np.max(epoch_accs))\n",
        "    \n",
        "    test_losses = list()\n",
        "    test_accs = list()\n",
        "    \n",
        "    for batch in test_iter:\n",
        "        with torch.no_grad():\n",
        "            \n",
        "            optimizer.zero_grad()\n",
        "            \n",
        "            prediction = model(batch.review.T.to(device)).cpu()\n",
        "            \n",
        "            loss = loss_function(prediction, batch.label)\n",
        "            \n",
        "            test_losses.append(loss.item())\n",
        "            \n",
        "            test_accs.append(int((prediction.argmax(1) == batch.label).sum()) / len(batch.label))\n",
        "\n",
        "    \n",
        "    print('test loss on epoch {}: {:.3f}'.format(epoch + 1, np.mean(test_losses)))\n",
        "    print('test acc on epoch {}: {:.3f}'.format(epoch + 1, np.max(test_accs)))\n",
        "    test_loss.append(np.mean(test_losses))\n",
        "    test_acc.append(np.max(test_accs))"
      ],
      "execution_count": 31,
      "outputs": [
        {
          "output_type": "stream",
          "text": [
            "Starting epoch 1:\n",
            "train loss on epoch 1 : 0.720\n",
            "train acc on epoch 1: 0.938\n",
            "test loss on epoch 1: 0.693\n",
            "test acc on epoch 1: 0.875\n",
            "Starting epoch 2:\n",
            "train loss on epoch 2 : 0.720\n",
            "train acc on epoch 2: 0.875\n",
            "test loss on epoch 2: 0.714\n",
            "test acc on epoch 2: 0.875\n",
            "Starting epoch 3:\n",
            "train loss on epoch 3 : 0.715\n",
            "train acc on epoch 3: 0.938\n",
            "test loss on epoch 3: 0.698\n",
            "test acc on epoch 3: 0.875\n",
            "Starting epoch 4:\n",
            "train loss on epoch 4 : 0.723\n",
            "train acc on epoch 4: 0.938\n",
            "test loss on epoch 4: 0.694\n",
            "test acc on epoch 4: 0.875\n",
            "Starting epoch 5:\n",
            "train loss on epoch 5 : 0.713\n",
            "train acc on epoch 5: 0.938\n",
            "test loss on epoch 5: 0.780\n",
            "test acc on epoch 5: 0.875\n"
          ],
          "name": "stdout"
        }
      ]
    },
    {
      "cell_type": "code",
      "metadata": {
        "id": "SSjgN3Xt9JTz",
        "colab": {
          "base_uri": "https://localhost:8080/",
          "height": 312
        },
        "outputId": "ebbcdcc8-6921-4bdf-f84d-5153cd4c5b2a"
      },
      "source": [
        "import matplotlib.pylab as plt\n",
        "import seaborn as sns\n",
        "\n",
        "data = pd.DataFrame({'train_loss': train_loss, 'train_acc': train_acc, 'test_loss': test_loss, 'test_acc': test_acc})\n",
        "\n",
        "f, (ax1, ax2) = plt.subplots(1, 2, figsize=(10, 4))\n",
        "sns.lineplot(ax=ax1, data=data[['train_loss', 'train_acc']])\n",
        "sns.lineplot(ax=ax2, data=data[['test_loss', 'test_acc']])\n",
        "ax1.set_title('Train loss and accuracy')\n",
        "ax2.set_title('Test loss and accuracy')\n",
        "ax1.set_xlabel('epoch')\n",
        "ax2.set_xlabel('epoch')"
      ],
      "execution_count": 32,
      "outputs": [
        {
          "output_type": "execute_result",
          "data": {
            "text/plain": [
              "Text(0.5, 0, 'epoch')"
            ]
          },
          "metadata": {
            "tags": []
          },
          "execution_count": 32
        },
        {
          "output_type": "display_data",
          "data": {
            "image/png": "[encoded data removed]",
            "text/plain": [
              "<Figure size 720x288 with 2 Axes>"
            ]
          },
          "metadata": {
            "tags": [],
            "needs_background": "light"
          }
        }
      ]
    },
    {
      "cell_type": "code",
      "metadata": {
        "id": "7AgpgygY5qZt"
      },
      "source": [
        ""
      ],
      "execution_count": null,
      "outputs": []
    },
    {
      "cell_type": "code",
      "metadata": {
        "id": "XMT8nt-y5qZt"
      },
      "source": [
        ""
      ],
      "execution_count": null,
      "outputs": []
    }
  ]
}